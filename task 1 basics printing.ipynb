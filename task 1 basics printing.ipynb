{
 "cells": [
  {
   "cell_type": "markdown",
   "id": "67850fc9-b7d7-4f17-8061-b3abe45faf37",
   "metadata": {},
   "source": [
    "# Task : Session 1\n",
    "Solve these questions own your own and try to test yourself what you have learned in the session.\n",
    "\n",
    "Happy Learning!"
   ]
  },
  {
   "cell_type": "markdown",
   "id": "5fcfdefd-c677-4941-8577-8a30ea0b0aa8",
   "metadata": {},
   "source": [
    "# Q1 :- Print the given strings as per stated format.\n",
    "Given strings:\n",
    "\n",
    "\"Data\" \"Science\" \"Mentorship\" \"Program\" \n",
    "\"By\" \"CampusX\""
   ]
  },
  {
   "cell_type": "code",
   "execution_count": 5,
   "id": "f18229bf-2cda-4cdf-8847-64d02f19f0a3",
   "metadata": {},
   "outputs": [
    {
     "name": "stdout",
     "output_type": "stream",
     "text": [
      "Data-Science-Mentorship-program-By-CamppusX\n"
     ]
    }
   ],
   "source": [
    "print(\"Data\",\"Science\",\"Mentorship\",\"program\",\"By\",\"CamppusX\", sep =\"-\")"
   ]
  },
  {
   "cell_type": "markdown",
   "id": "f905141b-b742-4659-ae46-dd2781c5e41f",
   "metadata": {},
   "source": [
    " ### Q2:- Write a program that will convert celsius value to fahrenheit."
   ]
  },
  {
   "cell_type": "code",
   "execution_count": 16,
   "id": "26aed312-1738-4332-b583-512f31201065",
   "metadata": {},
   "outputs": [
    {
     "name": "stdout",
     "output_type": "stream",
     "text": [
      "Celsius (°C) is a unit to measure temperature. it used for measuring the temperture Fahrenheit (°F) is a unit of temperature.also used for measuring the temperature\n"
     ]
    },
    {
     "name": "stdin",
     "output_type": "stream",
     "text": [
      "enter the value of cel:  32\n"
     ]
    },
    {
     "name": "stdout",
     "output_type": "stream",
     "text": [
      "89.6\n"
     ]
    }
   ],
   "source": [
    "a=(\"Celsius (°C) is a unit to measure temperature. it used for measuring the temperture\")\n",
    "b=('''Fahrenheit (°F) is a unit of temperature.also used for measuring the temperature''' )\n",
    "\n",
    "print(a ,b )\n",
    "#cel_to_far= f=(c*9/5)+32\n",
    "#far_to_cal=c=(f-32)*5/9\n",
    "\n",
    "cel=int(input(\"enter the value of cel: \"))\n",
    "\n",
    "cel_to_far=(cel*9/5)+32\n",
    "print(cel_to_far)\n",
    "\n",
    "\n",
    "        "
   ]
  },
  {
   "cell_type": "markdown",
   "id": "2a6723eb-cb85-4472-961c-a1ec26c0b69d",
   "metadata": {},
   "source": [
    "### Q3:- Take 2 numbers as input from the user.Write a program to swap the numbers without using any special python syntax."
   ]
  },
  {
   "cell_type": "code",
   "execution_count": 25,
   "id": "c68cf872-27e6-41c9-8681-d73dd41805ab",
   "metadata": {},
   "outputs": [
    {
     "name": "stdin",
     "output_type": "stream",
     "text": [
      "enter the first number:  4\n",
      "enter the second number:  5\n"
     ]
    },
    {
     "name": "stdout",
     "output_type": "stream",
     "text": [
      "5\n",
      "4\n"
     ]
    }
   ],
   "source": [
    "a = int(input(\"enter the first number: \"))\n",
    "b= int(input(\"enter the second number: \"))\n",
    "       \n",
    "a, b=b,a\n",
    "\n",
    "print(a)\n",
    "print(b)"
   ]
  },
  {
   "cell_type": "markdown",
   "id": "b586e381-ce64-4489-bba5-4509eedf3cb5",
   "metadata": {},
   "source": [
    "### Q4:- Write a program to find the euclidean distance between two coordinates.Take both the coordinates from the user as input."
   ]
  },
  {
   "cell_type": "code",
   "execution_count": 36,
   "id": "c369070a-cbc7-4d61-b2f4-e54def0e7937",
   "metadata": {},
   "outputs": [
    {
     "name": "stdout",
     "output_type": "stream",
     "text": [
      "Euclidean distance is the straight-line distance between two points in space — like drawing a line between them and measuring its length.\n"
     ]
    },
    {
     "name": "stdin",
     "output_type": "stream",
     "text": [
      "enter the x1:  4\n",
      "enter the y1:  3\n",
      "enter the x2:  52\n",
      "enter the y2:  2\n"
     ]
    },
    {
     "name": "stdout",
     "output_type": "stream",
     "text": [
      "euc_distance(distance between two coordinates)=  48.01\n"
     ]
    }
   ],
   "source": [
    "import math\n",
    "a=(\"Euclidean distance is the straight-line distance between two points in space — like drawing a line between them and measuring its length.\")\n",
    "print(a)\n",
    "\n",
    "b1= int(input(\"enter the x1: \"))\n",
    "b2=int(input(\"enter the y1: \"))\n",
    "\n",
    "c1=int(input(\"enter the x2: \"))\n",
    "c2=int(input(\"enter the y2: \"))\n",
    "\n",
    "euclien_distance=math.sqrt((b1-c1)**2+(b2-c2)**2)\n",
    "\n",
    "print(\"euc_distance(distance between two coordinates)= \",round(euclien_distance,2))\n",
    "       "
   ]
  },
  {
   "cell_type": "markdown",
   "id": "9829b1ab-f539-4ad2-a6aa-c3abb34c1682",
   "metadata": {},
   "source": [
    "### Q5:- Write a program to find the simple interest when the value of principle,rate of interest and time period is provided by the user."
   ]
  },
  {
   "cell_type": "code",
   "execution_count": 56,
   "id": "31fd8c59-643e-41e0-8fa1-fbeb75c5a6ba",
   "metadata": {},
   "outputs": [
    {
     "name": "stdout",
     "output_type": "stream",
     "text": [
      "principle: it is normal value you give or take from the bank\n",
      "rate of interest :it means how much percent they interst will apply on your\n",
      "simple_interst: extra money you earn or pay on fixed amount\n",
      "time: for how much time\n"
     ]
    },
    {
     "name": "stdin",
     "output_type": "stream",
     "text": [
      "Enter the priciple: 1000\n",
      "Enter the rate of interst: 2\n",
      "Enter the time period:  5\n"
     ]
    },
    {
     "name": "stdout",
     "output_type": "stream",
     "text": [
      "your simple interst is calculated : 100.0\n"
     ]
    }
   ],
   "source": [
    "p=\"principle: it is normal value you give or take from the bank\"\n",
    "r=\"rate of interest :it means how much percent they interst will apply on your\"\n",
    "s=\"simple_interst: extra money you earn or pay on fixed amount\"\n",
    "t=\"time: for how much time\"\n",
    "print(p)\n",
    "print(r)\n",
    "print(s)\n",
    "print(t)\n",
    "\n",
    "pincipal=int(input(\"Enter the priciple:\"))\n",
    "rate_of_interst=int(input(\"Enter the rate of interst:\"))\n",
    "time=int(input(\"Enter the time period: \"))\n",
    "\n",
    "         \n",
    "simple_interst=pincipal*rate_of_interst*time/100\n",
    "\n",
    "print(\"your simple interst is calculated :\",simple_interst)\n"
   ]
  },
  {
   "cell_type": "markdown",
   "id": "726dc473-39c1-4770-ae2c-c39a53e0eb8b",
   "metadata": {},
   "source": [
    "### Q6:- Write a program that will tell the number of dogs and chicken are there when the user will provide the value of total heads and legs.\n",
    "For example: Input: heads -> 4 legs -> 12\n",
    "Output: dogs -> 2 chicken -> 2"
   ]
  },
  {
   "cell_type": "code",
   "execution_count": 63,
   "id": "1a6d20e8-12d7-4bcf-b838-220183632b58",
   "metadata": {},
   "outputs": [
    {
     "name": "stdin",
     "output_type": "stream",
     "text": [
      "Enter total number of heads:  10\n",
      "Enter total number of legs:  28\n"
     ]
    },
    {
     "name": "stdout",
     "output_type": "stream",
     "text": [
      "Chickens: 6\n",
      "Dogs: 4\n"
     ]
    }
   ],
   "source": [
    "#number of dogs and chicken heads are 1 and dogs 4 legs and chiken 2 leg\n",
    "\n",
    "\n",
    "heads = int(input(\"Enter total number of heads: \"))\n",
    "legs = int(input(\"Enter total number of legs: \"))\n",
    "\n",
    "dogs = (legs - 2 * heads) // 2\n",
    "chickens = heads - dogs\n",
    "\n",
    "# Output\n",
    "print(\"Chickens:\", chickens)\n",
    "print(\"Dogs:\", dogs)\n"
   ]
  },
  {
   "cell_type": "markdown",
   "id": "3a83a5ba-3472-4118-ac1f-18679dbf883c",
   "metadata": {},
   "source": [
    "### Q7:- Write a program to find the sum of squares of first n natural numbers where n will be provided by the user."
   ]
  },
  {
   "cell_type": "code",
   "execution_count": 7,
   "id": "d2b3be01-05fb-4669-b3e0-3be1340e333c",
   "metadata": {},
   "outputs": [
    {
     "name": "stdin",
     "output_type": "stream",
     "text": [
      "Enter the value of n: 234\n"
     ]
    },
    {
     "name": "stdout",
     "output_type": "stream",
     "text": [
      "the sum of the first  234 natural numbers is: 27495\n"
     ]
    }
   ],
   "source": [
    "n = int(input(\"Enter the value of n:\"))\n",
    "\n",
    "sum_all_natural_number = n*(n+1)//2\n",
    "\n",
    "print(\"the sum of the first \",n,\"natural numbers is:\", sum_all_natural_number)"
   ]
  },
  {
   "cell_type": "markdown",
   "id": "0de1f4ad-6b5c-42fb-b96a-2e9d69274472",
   "metadata": {},
   "source": [
    "### Q8:- Given the first 2 terms of an Arithmetic Series.Find the Nth term of the series. Assume all inputs are provided by the user."
   ]
  },
  {
   "cell_type": "code",
   "execution_count": 13,
   "id": "9d0ca385-2011-4aa1-98be-4d26f3a3a43c",
   "metadata": {},
   "outputs": [
    {
     "name": "stdin",
     "output_type": "stream",
     "text": [
      "enter the first term :  3\n",
      "Enter the second term:  7\n",
      "enter the nth that you want: 23\n"
     ]
    },
    {
     "name": "stdout",
     "output_type": "stream",
     "text": [
      "here the nth term value is:  91\n"
     ]
    }
   ],
   "source": [
    "a =int(input(\"enter the first term : \"))\n",
    "b = int(input(\"Enter the second term: \"))\n",
    "n=int(input(\"enter the nth that you want:\"))\n",
    "\n",
    "d= b -a\n",
    "tn=a+(n-1)*d\n",
    "print(\"here the nth term value is: \",tn)\n"
   ]
  },
  {
   "cell_type": "markdown",
   "id": "41e9f24f-7a83-4866-81fa-98439e22d322",
   "metadata": {},
   "source": [
    "### Q9:- Given 2 fractions, find the sum of those 2 fractions.Take the numerator and denominator values of the fractions from the user.\n"
   ]
  },
  {
   "cell_type": "code",
   "execution_count": 17,
   "id": "6b28f210-baf0-4df2-b179-b6b36f962d86",
   "metadata": {},
   "outputs": [
    {
     "name": "stdout",
     "output_type": "stream",
     "text": [
      "here the fraction addition 3.5\n"
     ]
    }
   ],
   "source": [
    "a = 16/8\n",
    "b = 12/8\n",
    "\n",
    "print (\"here the fraction addition\",a + b)"
   ]
  },
  {
   "cell_type": "markdown",
   "id": "efde08d8-6ed4-4c55-8b91-accbc94470f1",
   "metadata": {},
   "source": [
    "### Q10:- Given the height, width and breadth of a milk tank, you have to find out how many glasses of milk can be obtained? Assume all the inputs are provided by the user.\n",
    "Input:\n",
    "Dimensions of the milk tank\n",
    "H = 20cm, L = 20cm, B = 20cm\n",
    "\n",
    "Dimensions of the glass\n",
    "h = 3cm, r = 1cm"
   ]
  },
  {
   "cell_type": "code",
   "execution_count": 23,
   "id": "a0298cfb-09fb-4ebf-8dd7-7f02f7169a5f",
   "metadata": {},
   "outputs": [
    {
     "name": "stdout",
     "output_type": "stream",
     "text": [
      "here glass of milk we can have 848.8263631567752\n"
     ]
    }
   ],
   "source": [
    "# we have height,width and breadth (length )of milk tank so we can measure how many glass can fit in it\n",
    "\n",
    "import math\n",
    "\n",
    "H = 20\n",
    "L = 20\n",
    "B = 20\n",
    "\n",
    "galss_h=3\n",
    "radius=1\n",
    "\n",
    "Volumnsoftank=H*L*B\n",
    "\n",
    "cv= math.pi*1**2*3\n",
    "\n",
    "glassofmilk = Volumnsoftank/cv\n",
    "print(\"here glass of milk we can have\",glassofmilk)"
   ]
  },
  {
   "cell_type": "code",
   "execution_count": null,
   "id": "8813e1fb-7488-4274-94e6-87516af5b120",
   "metadata": {},
   "outputs": [],
   "source": []
  },
  {
   "cell_type": "code",
   "execution_count": null,
   "id": "2db301a7-00ee-44b2-9de8-039b6d6bc5c0",
   "metadata": {},
   "outputs": [],
   "source": []
  },
  {
   "cell_type": "code",
   "execution_count": null,
   "id": "adeccde5-d1de-4474-b318-33754ed13346",
   "metadata": {},
   "outputs": [],
   "source": []
  }
 ],
 "metadata": {
  "kernelspec": {
   "display_name": "Python 3 (ipykernel)",
   "language": "python",
   "name": "python3"
  },
  "language_info": {
   "codemirror_mode": {
    "name": "ipython",
    "version": 3
   },
   "file_extension": ".py",
   "mimetype": "text/x-python",
   "name": "python",
   "nbconvert_exporter": "python",
   "pygments_lexer": "ipython3",
   "version": "3.12.7"
  }
 },
 "nbformat": 4,
 "nbformat_minor": 5
}
